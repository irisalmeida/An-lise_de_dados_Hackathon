{
  "nbformat": 4,
  "nbformat_minor": 0,
  "metadata": {
    "colab": {
      "name": "Aprendizados_Hackathon.ipynb",
      "provenance": [],
      "authorship_tag": "ABX9TyPJDIxCPZ++m5O+s2zNeGYx"
    },
    "kernelspec": {
      "name": "python3",
      "display_name": "Python 3"
    },
    "language_info": {
      "name": "python"
    }
  },
  "cells": [
    {
      "cell_type": "markdown",
      "metadata": {
        "id": "uxjiGv2cphel"
      },
      "source": [
        "# *Acompanhe como foi participar dessa experiência em grupo:*\n",
        "\n",
        "\n",
        "Participamos pela primeira vez de um Hackathon e no primeiro dia estávamos muito animadas.Todavia, ao longo da jornada houve o desfalque de áreas essenciais para participar do desafio. Assim, com o desânimo e a ansiedade, a sensação era que tudo estava perdido e nossa desistência seria a única opção.Mas, por meio do apoio de mentoras incríveis, conseguimos manter o foco, e, apenas em um dia e meio,redirecionar o que era esperado e unir nossas habilidades de Dados, UI/UX e Produto para criar um protótipo da solução.\n",
        "\n",
        "\n",
        "\n",
        " 4 Aprendizados:\n",
        "\n",
        "\n",
        "*   Ter sido selecionada para participar de um Hackathon, com apenas um mês de estudos relacionados a área de dados foi uma grande surpresa. Nesse sentido, foi uma experiência muito marcante, pois percebi que não sabia do que realmente era capaz até esse desafio;\n",
        "\n",
        "*   Agir baseada em prioridades, inclusive saindo da zona de conforto e contribuindo com outras áreas. Admito que esse foi um ponto difícil, pois eu sabia que poderia melhorar meu código.Todavia, devido ao fato de que ainda não havíamos preparado os textos do wireframe, a demo, o pitch...meu foco se tornou garantir a entrega do projeto final;\n",
        "\n",
        "*   Contar com a orientação de mentoras faz toda diferença;\n",
        "\n",
        "*   Embora seja um clichê, a comunicação realmente é fundamental, foi por meio da análise de dados que fiz e a pesquisa de mercado que elaboramos juntas uma solução plausível;\n",
        "\n",
        "\n"
      ]
    }
  ]
}